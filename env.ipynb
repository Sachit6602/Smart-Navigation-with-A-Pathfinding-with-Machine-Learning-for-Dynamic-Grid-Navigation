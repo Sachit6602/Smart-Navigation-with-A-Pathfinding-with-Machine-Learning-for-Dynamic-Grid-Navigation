{
 "cells": [
  {
   "cell_type": "code",
   "execution_count": 3,
   "metadata": {},
   "outputs": [],
   "source": [
    "import numpy as np\n",
    "\n",
    "grid_size = 10\n",
    "grid = np.zeros((grid_size, grid_size))\n",
    "grid[3, 3] = 1  # Add obstacle at position (3, 3)\n"
   ]
  },
  {
   "cell_type": "code",
   "execution_count": 4,
   "metadata": {},
   "outputs": [],
   "source": [
    "from queue import PriorityQueue\n",
    "\n",
    "def a_star(grid, start, goal):\n",
    "    open_list = PriorityQueue()\n",
    "    open_list.put((0, start))\n",
    "    came_from = {}\n",
    "    g_score = {start: 0}\n",
    "    h = lambda x, y: abs(x[0] - y[0]) + abs(x[1] - y[1])  # Manhattan distance\n",
    "\n",
    "    while not open_list.empty():\n",
    "        _, current = open_list.get()\n",
    "\n",
    "        if current == goal:\n",
    "            path = []\n",
    "            while current in came_from:\n",
    "                path.append(current)\n",
    "                current = came_from[current]\n",
    "            return path[::-1]\n",
    "\n",
    "        for neighbor in get_neighbors(current, grid):\n",
    "            temp_g_score = g_score[current] + 1  # Assuming uniform cost\n",
    "            if neighbor not in g_score or temp_g_score < g_score[neighbor]:\n",
    "                came_from[neighbor] = current\n",
    "                g_score[neighbor] = temp_g_score\n",
    "                f_score = temp_g_score + h(neighbor, goal)\n",
    "                open_list.put((f_score, neighbor))\n",
    "\n",
    "    return None  # No path found\n",
    "\n",
    "def get_neighbors(pos, grid):\n",
    "    neighbors = []\n",
    "    for dx, dy in [(-1, 0), (1, 0), (0, -1), (0, 1)]:\n",
    "        neighbor = (pos[0] + dx, pos[1] + dy)\n",
    "        if 0 <= neighbor[0] < grid.shape[0] and 0 <= neighbor[1] < grid.shape[1]:\n",
    "            if grid[neighbor[0], neighbor[1]] == 0:  # Check if free space\n",
    "                neighbors.append(neighbor)\n",
    "    return neighbors\n"
   ]
  },
  {
   "cell_type": "code",
   "execution_count": 5,
   "metadata": {},
   "outputs": [
    {
     "name": "stderr",
     "output_type": "stream",
     "text": [
      "C:\\Users\\sachi\\AppData\\Local\\Packages\\PythonSoftwareFoundation.Python.3.12_qbz5n2kfra8p0\\LocalCache\\local-packages\\Python312\\site-packages\\keras\\src\\layers\\core\\dense.py:87: UserWarning: Do not pass an `input_shape`/`input_dim` argument to a layer. When using Sequential models, prefer using an `Input(shape)` object as the first layer in the model instead.\n",
      "  super().__init__(activity_regularizer=activity_regularizer, **kwargs)\n"
     ]
    }
   ],
   "source": [
    "import tensorflow as tf\n",
    "\n",
    "model = tf.keras.Sequential([\n",
    "    tf.keras.layers.Dense(64, activation='relu', input_shape=(4,)),  # 4 inputs for 4 directions\n",
    "    tf.keras.layers.Dense(32, activation='relu'),\n",
    "    tf.keras.layers.Dense(4, activation='softmax')  # 4 outputs for 4 directions\n",
    "])\n",
    "\n",
    "model.compile(optimizer='adam', loss='categorical_crossentropy')\n"
   ]
  },
  {
   "cell_type": "code",
   "execution_count": 6,
   "metadata": {},
   "outputs": [
    {
     "name": "stdout",
     "output_type": "stream",
     "text": [
      "pygame 2.6.1 (SDL 2.28.4, Python 3.12.7)\n",
      "Hello from the pygame community. https://www.pygame.org/contribute.html\n"
     ]
    },
    {
     "ename": "",
     "evalue": "",
     "output_type": "error",
     "traceback": [
      "\u001b[1;31mThe Kernel crashed while executing code in the current cell or a previous cell. \n",
      "\u001b[1;31mPlease review the code in the cell(s) to identify a possible cause of the failure. \n",
      "\u001b[1;31mClick <a href='https://aka.ms/vscodeJupyterKernelCrash'>here</a> for more info. \n",
      "\u001b[1;31mView Jupyter <a href='command:jupyter.viewOutput'>log</a> for further details."
     ]
    }
   ],
   "source": [
    "import pygame\n",
    "pygame.init()\n",
    "\n",
    "screen = pygame.display.set_mode((400, 400))\n",
    "grid_size = 10\n",
    "block_size = 40  # pixels per grid cell\n",
    "\n",
    "for i in range(grid_size):\n",
    "    for j in range(grid_size):\n",
    "        rect = pygame.Rect(j*block_size, i*block_size, block_size, block_size)\n",
    "        pygame.draw.rect(screen, (0, 0, 0), rect, 1)\n",
    "pygame.display.flip()\n"
   ]
  },
  {
   "cell_type": "code",
   "execution_count": 6,
   "metadata": {},
   "outputs": [
    {
     "data": {
      "image/png": "[encoded data removed]",
      "text/plain": [
       "<Figure size 640x480 with 1 Axes>"
      ]
     },
     "metadata": {},
     "output_type": "display_data"
    },
    {
     "ename": "",
     "evalue": "",
     "output_type": "error",
     "traceback": [
      "\u001b[1;31mThe Kernel crashed while executing code in the current cell or a previous cell. \n",
      "\u001b[1;31mPlease review the code in the cell(s) to identify a possible cause of the failure. \n",
      "\u001b[1;31mClick <a href='https://aka.ms/vscodeJupyterKernelCrash'>here</a> for more info. \n",
      "\u001b[1;31mView Jupyter <a href='command:jupyter.viewOutput'>log</a> for further details."
     ]
    }
   ],
   "source": [
    "import matplotlib.pyplot as plt\n",
    "\n",
    "def plot_grid(grid, path=None):\n",
    "    plt.imshow(grid, cmap='Greys', origin='upper')\n",
    "    if path:\n",
    "        for (x, y) in path:\n",
    "            plt.plot(y, x, 'ro')  # Plot the path in red\n",
    "    plt.show()\n",
    "\n",
    "plot_grid(grid)\n"
   ]
  },
  {
   "cell_type": "code",
   "execution_count": 2,
   "metadata": {},
   "outputs": [
    {
     "name": "stderr",
     "output_type": "stream",
     "text": [
      "C:\\Users\\sachi\\AppData\\Local\\Packages\\PythonSoftwareFoundation.Python.3.12_qbz5n2kfra8p0\\LocalCache\\local-packages\\Python312\\site-packages\\matplotlib\\animation.py:872: UserWarning: Animation was deleted without rendering anything. This is most likely not intended. To prevent deletion, assign the Animation to a variable, e.g. `anim`, that exists until you output the Animation using `plt.show()` or `anim.save()`.\n",
      "  warnings.warn(\n"
     ]
    },
    {
     "data": {
      "image/png": "[encoded data removed]",
      "text/plain": [
       "<Figure size 640x480 with 1 Axes>"
      ]
     },
     "metadata": {},
     "output_type": "display_data"
    }
   ],
   "source": [
    "import numpy as np\n",
    "import matplotlib.pyplot as plt\n",
    "import matplotlib.animation as animation\n",
    "from queue import PriorityQueue\n",
    "\n",
    "# Initialize the grid with obstacles\n",
    "grid_size = 10\n",
    "grid = np.zeros((grid_size, grid_size))\n",
    "grid[3, 3:6] = 1  # Add obstacles\n",
    "grid[5, 6] = 1\n",
    "grid[7, 2:5] = 1\n",
    "\n",
    "# A* Pathfinding Function\n",
    "def a_star(grid, start, goal):\n",
    "    open_list = PriorityQueue()\n",
    "    open_list.put((0, start))\n",
    "    came_from = {}\n",
    "    g_score = {start: 0}\n",
    "    h = lambda x, y: abs(x[0] - y[0]) + abs(x[1] - y[1])\n",
    "\n",
    "    while not open_list.empty():\n",
    "        _, current = open_list.get()\n",
    "\n",
    "        if current == goal:\n",
    "            path = []\n",
    "            while current in came_from:\n",
    "                path.append(current)\n",
    "                current = came_from[current]\n",
    "            path.append(start)\n",
    "            return path[::-1]\n",
    "\n",
    "        for dx, dy in [(-1, 0), (1, 0), (0, -1), (0, 1)]:\n",
    "            neighbor = (current[0] + dx, current[1] + dy)\n",
    "            if 0 <= neighbor[0] < grid.shape[0] and 0 <= neighbor[1] < grid.shape[1]:\n",
    "                if grid[neighbor[0], neighbor[1]] == 0:  # Check if free space\n",
    "                    temp_g_score = g_score[current] + 1\n",
    "                    if neighbor not in g_score or temp_g_score < g_score[neighbor]:\n",
    "                        came_from[neighbor] = current\n",
    "                        g_score[neighbor] = temp_g_score\n",
    "                        f_score = temp_g_score + h(neighbor, goal)\n",
    "                        open_list.put((f_score, neighbor))\n",
    "\n",
    "    return None  # No path found\n",
    "\n",
    "# Define start and goal\n",
    "start = (0, 0)\n",
    "goal = (9, 9)\n",
    "path = a_star(grid, start, goal)\n",
    "\n",
    "# Visualization with Matplotlib\n",
    "fig, ax = plt.subplots()\n",
    "ax.imshow(grid, cmap='Greys', origin='upper')\n",
    "\n",
    "# Function to animate the path\n",
    "def animate(i):\n",
    "    if i < len(path):\n",
    "        x, y = path[i]\n",
    "        ax.plot(y, x, 'ro')  # Plot the current step in the path\n",
    "\n",
    "ani = animation.FuncAnimation(fig, animate, frames=len(path), interval=300)\n",
    "plt.show()\n"
   ]
  },
  {
   "cell_type": "code",
   "execution_count": 3,
   "metadata": {},
   "outputs": [
    {
     "data": {
      "text/plain": [
       "<contextlib.ExitStack at 0x21f81552780>"
      ]
     },
     "execution_count": 3,
     "metadata": {},
     "output_type": "execute_result"
    }
   ],
   "source": [
    "plt.ion()\n"
   ]
  }
 ],
 "metadata": {
  "kernelspec": {
   "display_name": "Python 3",
   "language": "python",
   "name": "python3"
  },
  "language_info": {
   "codemirror_mode": {
    "name": "ipython",
    "version": 3
   },
   "file_extension": ".py",
   "mimetype": "text/x-python",
   "name": "python",
   "nbconvert_exporter": "python",
   "pygments_lexer": "ipython3",
   "version": "3.12.7"
  }
 },
 "nbformat": 4,
 "nbformat_minor": 2
}
